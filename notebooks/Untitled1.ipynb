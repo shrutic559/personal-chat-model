{
 "cells": [
  {
   "cell_type": "code",
   "execution_count": 1,
   "id": "8f62b6cb-784f-485b-8149-f8667617e9a4",
   "metadata": {},
   "outputs": [],
   "source": [
    "import os"
   ]
  },
  {
   "cell_type": "code",
   "execution_count": 4,
   "id": "ceb95722-674f-43ee-b56d-874c79cddd5d",
   "metadata": {},
   "outputs": [],
   "source": [
    "data_folder = \"/Users/shrutichauhan/Documents/GitHub/personal-chat-model/data:\""
   ]
  },
  {
   "cell_type": "code",
   "execution_count": 5,
   "id": "6a9c7e32-995b-462e-9eea-8152f5e915a3",
   "metadata": {},
   "outputs": [],
   "source": [
    "chat_files = [f for f in os.listdir(data_folder) if f.endswith(\".txt\")]"
   ]
  },
  {
   "cell_type": "code",
   "execution_count": 6,
   "id": "17d3bef8-e833-4b41-8b31-1346120333f3",
   "metadata": {},
   "outputs": [],
   "source": [
    "with open(os.path.join(data_folder, chat_files[0]), \"r\", encoding=\"utf-8\") as file:\n",
    "    chat_data = file.readlines()"
   ]
  },
  {
   "cell_type": "code",
   "execution_count": 7,
   "id": "514eb2f7-d68c-4113-b988-3f13f8b08a14",
   "metadata": {},
   "outputs": [
    {
     "name": "stdout",
     "output_type": "stream",
     "text": [
      "['[16/01/25, 12:29:47\\u202fAM] steve: \\u200eMessages and calls are end-to-end encrypted. No one outside of this chat, not even WhatsApp, can read or listen to them.\\n', '[16/01/25, 12:29:47\\u202fAM] steve: Hey\\n', '[16/01/25, 3:51:32\\u202fAM] Shruti Chauhan: I am home\\n', '[16/01/25, 3:54:09\\u202fAM] steve: Omg so fast thanks so much I was so happy to see you 😍\\n', '[16/01/25, 3:58:30\\u202fAM] Shruti Chauhan: Ikr, I was really happy to see you\\n', '[16/01/25, 3:58:39\\u202fAM] Shruti Chauhan: Thankyou for asking me to see you haha\\n', '[16/01/25, 3:59:29\\u202fAM] steve: Well i did miss you\\n', '[16/01/25, 3:59:32\\u202fAM] steve: Haha\\n', '[16/01/25, 4:00:50\\u202fAM] Shruti Chauhan: Hehe i missed you, saw u literally after work\\n', '[16/01/25, 4:04:31\\u202fAM] steve: It be like that sometimes\\n']\n"
     ]
    }
   ],
   "source": [
    "print(chat_data[:10])"
   ]
  },
  {
   "cell_type": "code",
   "execution_count": null,
   "id": "f801398b-906f-4f71-8e71-0f6690252b18",
   "metadata": {},
   "outputs": [],
   "source": []
  }
 ],
 "metadata": {
  "kernelspec": {
   "display_name": "Python 3 (ipykernel)",
   "language": "python",
   "name": "python3"
  },
  "language_info": {
   "codemirror_mode": {
    "name": "ipython",
    "version": 3
   },
   "file_extension": ".py",
   "mimetype": "text/x-python",
   "name": "python",
   "nbconvert_exporter": "python",
   "pygments_lexer": "ipython3",
   "version": "3.12.0"
  }
 },
 "nbformat": 4,
 "nbformat_minor": 5
}
